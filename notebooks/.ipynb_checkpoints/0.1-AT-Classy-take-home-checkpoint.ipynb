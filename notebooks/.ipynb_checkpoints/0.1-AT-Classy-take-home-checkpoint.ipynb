{
 "cells": [
  {
   "cell_type": "markdown",
   "metadata": {},
   "source": [
    "# Setup"
   ]
  },
  {
   "cell_type": "code",
   "execution_count": 181,
   "metadata": {
    "collapsed": false
   },
   "outputs": [],
   "source": [
    "import matplotlib\n",
    "import matplotlib.pyplot as plt\n",
    "import numpy as np\n",
    "import pandas as pd\n",
    "import seaborn as sns\n",
    "\n",
    "from scipy.stats import bernoulli, expon, randint, multinomial, skewnorm, lognorm"
   ]
  },
  {
   "cell_type": "code",
   "execution_count": 2,
   "metadata": {
    "collapsed": true
   },
   "outputs": [],
   "source": [
    "# Script Variables\n",
    "N = 50000 # data sample size"
   ]
  },
  {
   "cell_type": "code",
   "execution_count": 214,
   "metadata": {
    "collapsed": true
   },
   "outputs": [],
   "source": [
    "# Plotting Setup\n",
    "plt.rcParams['axes.titlesize'] = 12\n",
    "plt.rcParams['axes.labelsize'] = 12"
   ]
  },
  {
   "cell_type": "code",
   "execution_count": null,
   "metadata": {
    "collapsed": true
   },
   "outputs": [],
   "source": [
    "# add source numbers"
   ]
  },
  {
   "cell_type": "markdown",
   "metadata": {},
   "source": [
    "# I. Access a Data Source"
   ]
  },
  {
   "cell_type": "markdown",
   "metadata": {},
   "source": [
    "US state population data taken from the official US Census website. Data estimation accurate as of 7/1/2016.  \n",
    "\n",
    "- Source: https://www2.census.gov/programs-surveys/popest/datasets/2010-2016/state/asrh/  \n",
    "- Filename: scprc-est2016-18+pop-res.csv  \n",
    "- Dataset Description: https://www2.census.gov/programs-surveys/popest/technical-documentation/file-layouts/2010-2016/SCPRC-EST2016-18+POP-RES.pdf\n",
    "- Data Estimation Methodology: https://www2.census.gov/programs-surveys/popest/technical-documentation/methodology/2010-2016/2016-natstcopr-meth.pdf "
   ]
  },
  {
   "cell_type": "code",
   "execution_count": 3,
   "metadata": {
    "collapsed": false
   },
   "outputs": [],
   "source": [
    "# load in data\n",
    "data_pop = 'scprc-est2016-18+pop-res.csv'\n",
    "df_pop = pd.read_csv('../data/' + data_pop)\n",
    "\n",
    "# extract relevant columns\n",
    "df_pop_state = df_pop[['NAME', 'POPESTIMATE2016']]\n",
    "\n",
    "# remove non-state entries\n",
    "df_pop_state = df_pop_state[df_pop_state.NAME != 'United States']\n",
    "df_pop_state = df_pop_state[df_pop_state.NAME != 'District of Columbia']\n",
    "df_pop_state = df_pop_state[df_pop_state.NAME != 'Puerto Rico Commonwealth']"
   ]
  },
  {
   "cell_type": "code",
   "execution_count": 4,
   "metadata": {
    "collapsed": false
   },
   "outputs": [
    {
     "name": "stdout",
     "output_type": "stream",
     "text": [
      "Data Verification\n",
      "\n",
      "First 5 Entries:\n",
      "         NAME  POPESTIMATE2016\n",
      "1     Alabama          4863300\n",
      "2      Alaska           741894\n",
      "3     Arizona          6931071\n",
      "4    Arkansas          2988248\n",
      "5  California         39250017\n",
      "\n",
      "Last 5 Entries:\n",
      "             NAME  POPESTIMATE2016\n",
      "47       Virginia          8411808\n",
      "48     Washington          7288000\n",
      "49  West Virginia          1831102\n",
      "50      Wisconsin          5778708\n",
      "51        Wyoming           585501\n",
      "\n",
      "Number of States: 50\n",
      "\n",
      "NaN or Missing Values\n",
      "NAME               0\n",
      "POPESTIMATE2016    0\n",
      "dtype: int64\n"
     ]
    }
   ],
   "source": [
    "print(\"Data Verification\")\n",
    "print(\"\\nFirst 5 Entries:\")\n",
    "print(df_pop_state.head())\n",
    "print(\"\\nLast 5 Entries:\")\n",
    "print(df_pop_state.tail())\n",
    "print(\"\\nNumber of States:\", df_pop_state.shape[0])\n",
    "print(\"\\nNaN or Missing Values\")\n",
    "print(np.sum(df_pop_state.isnull()))"
   ]
  },
  {
   "cell_type": "markdown",
   "metadata": {},
   "source": [
    "# II. Generate Raw Data"
   ]
  },
  {
   "cell_type": "markdown",
   "metadata": {},
   "source": [
    "## Age \n",
    "\n",
    "Modeling approximations, estimates, and assumptions:\n",
    "- Age is modeled as a uniform probability distribution from 0 to 54. Approximation based on US 2010 Census data (see Figure 1 below). \n",
    "- Age is modeled as a negative exponential probability distribution (lambda = 0.04) for values greater than 54. Approximation based on US 2010 Census data (see Figure 1 below). \n",
    "- 72% of the population is estimated to be 54 or younger. Estimation taken from 2015 data provided by the Henry J. Kaiser Family Foundation.\n",
    "- No ages greater than 114 are generated. Assumption based on an article published in the New York Post that stated that as of 02/09/17 the oldest person in America was 113.  \n",
    "\n",
    "Sources:\n",
    "1. 2010 US Census, \"Age and Sex Composition: 2010\": https://www.census.gov/prod/cen2010/briefs/c2010br-03.pdf\n",
    "- The Henry J. Kaiser Family Foundation, \"Population Distribution by Age\": http://www.kff.org/other/state-indicator/distribution-by-age/?currentTimeframe=0&sortModel=%7B%22colId%22:%22Location%22,%22sort%22:%22asc%22%7D   \n",
    "- New York Post Article, \"The oldest person in America has died\": http://nypost.com/2017/02/09/the-oldest-person-in-america-has-died/ \n",
    "\n",
    "Note: \n",
    "- Continuous values sampled from the exponential distribution were converted to be discrete."
   ]
  },
  {
   "cell_type": "markdown",
   "metadata": {},
   "source": [
    "### Figure 1\n",
    "![title](../resources/USCensus_AgeHistogram.png)"
   ]
  },
  {
   "cell_type": "code",
   "execution_count": 231,
   "metadata": {
    "collapsed": false
   },
   "outputs": [],
   "source": [
    "age_data = np.empty(N)\n",
    "\n",
    "# bernoulli parameter (72% of people are 54 and under)\n",
    "p = .72\n",
    "\n",
    "for i in range(N):\n",
    "    # generate bernoulli outcome for either \"54 and under\" or \"over 54\"\n",
    "    x = bernoulli.rvs(p, size = 1)\n",
    "    \n",
    "    # generate appropriate age based on bernoulli outcome\n",
    "    if (x == 1):\n",
    "        # model \"54 and under\" as a discrete uniform distribution\n",
    "        min_value = 0\n",
    "        max_value = 54\n",
    "        age_data[i] = randint.rvs(low=min_value, high=max_value+1, size=1)\n",
    "    else:\n",
    "        # model \"over 54\" as an exponential distribution\n",
    "        decay_rate = .04;\n",
    "        min_value = 55\n",
    "        y = np.floor(expon.rvs(loc=min_value, scale=1.0/decay_rate, size=1).astype(int))\n",
    "        # re-sample if age drawn is greater than 114\n",
    "        max_age = 114\n",
    "        while (y > max_age):\n",
    "            y = np.floor(expon.rvs(loc=min_value, scale=1.0/decay_rate, size=1).astype(int))\n",
    "        age_data[i] = y"
   ]
  },
  {
   "cell_type": "markdown",
   "metadata": {},
   "source": [
    "## Gender\n",
    "Modeling approximations, estimates, and assumptions:\n",
    "- 50% of population is estimated to be male, and the other 50% to be female. Approximation based on 2010 US Census data that indicated that 50.8% of the population was female and the rest were male.\n",
    "\n",
    "Sources:\n",
    "- 2010 US Census, \"Age and Sex Composition: 2010\": https://www.census.gov/prod/cen2010/briefs/c2010br-03.pdf"
   ]
  },
  {
   "cell_type": "code",
   "execution_count": 80,
   "metadata": {
    "collapsed": false
   },
   "outputs": [],
   "source": [
    "p = .5\n",
    "gender_data = bernoulli.rvs(p, size = N)"
   ]
  },
  {
   "cell_type": "markdown",
   "metadata": {},
   "source": [
    "## Gift Size\n",
    "\n",
    "Modeling approximations, estimates, and assumptions:\n",
    "- I choose to assume that \"Gift Size\" refers to single event online donations (i.e., non monthly or otherwise automatically recurring donations).\n",
    "- Average gift size is estimated to be $125. Estimate taken from a Classy.org blog post on choosing optimal online donation form giving levels.\n",
    "- Gift size is modeled as a log-normal probability distribution. A log-normal distribution was chosen for the following reasons: (1) it does not generate negative numbers, as all gifts are  non-negative in value; (2) the majority of generated numbers fall close to the mean, as would be expected of most gifts; and (3) it has a long right tail that allows for generated values to be far greater than the mean, as we would expect to see very large gifts from wealthy patrons.\n",
    "\n",
    "Sources:\n",
    "- Classy blog post, \"Choosing the Right Giving Levels for Your Online Donation Form\": https://www.classy.org/blog/choosing-the-right-giving-levels-for-your-online-donation-form/"
   ]
  },
  {
   "cell_type": "code",
   "execution_count": null,
   "metadata": {
    "collapsed": true
   },
   "outputs": [],
   "source": [
    "giftSize_avg = 125\n",
    "skew_parameter = 5\n",
    "giftSize_data = np.round(lognorm.rvs(.5 ,loc=126,  scale=1000, size=N),\n",
    "                         decimals=2)"
   ]
  },
  {
   "cell_type": "code",
   "execution_count": 168,
   "metadata": {
    "collapsed": true
   },
   "outputs": [],
   "source": [
    "giftSize_avg = 125\n",
    "skew_parameter = 5\n",
    "giftSize_data = np.round(skewnorm.rvs(skew_parameter, loc=giftSize_avg, size=N),\n",
    "                         decimals=2)"
   ]
  },
  {
   "cell_type": "code",
   "execution_count": 119,
   "metadata": {
    "collapsed": true
   },
   "outputs": [],
   "source": [
    "# adjust for state?"
   ]
  },
  {
   "cell_type": "code",
   "execution_count": 120,
   "metadata": {
    "collapsed": true
   },
   "outputs": [],
   "source": [
    "# adjust for gender?"
   ]
  },
  {
   "cell_type": "markdown",
   "metadata": {},
   "source": [
    "## Billing State Variable \n",
    "Modeling approximations, estimates, and assumptions used to generate data:\n",
    "- An individual's likelihood of making a donation does not depend on their billing state.\n"
   ]
  },
  {
   "cell_type": "code",
   "execution_count": 17,
   "metadata": {
    "collapsed": false
   },
   "outputs": [],
   "source": [
    "# calculate relative state populations\n",
    "total_pop = np.sum(df_pop_state['POPESTIMATE2016'])\n",
    "df_pop_state['POPESTIMATE2016_RELATIVE'] = df_pop_state['POPESTIMATE2016'] / total_pop"
   ]
  },
  {
   "cell_type": "code",
   "execution_count": 69,
   "metadata": {
    "collapsed": false
   },
   "outputs": [],
   "source": [
    "# generate values from multinomial distribution over states\n",
    "pvals = df_pop_state['POPESTIMATE2016_RELATIVE']\n",
    "billingState_data = []\n",
    "for i in range(N):\n",
    "    x = np.array([multinomial.rvs(1, pvals, size=1)])\n",
    "    x = x.squeeze().astype(bool)\n",
    "    billingState_data.append(df_pop_state['NAME'][x].iloc[0])"
   ]
  },
  {
   "cell_type": "markdown",
   "metadata": {
    "collapsed": true
   },
   "source": [
    "## Create CSV File"
   ]
  },
  {
   "cell_type": "code",
   "execution_count": 144,
   "metadata": {
    "collapsed": false
   },
   "outputs": [],
   "source": [
    "file = open('../data/generated_raw_data.csv', 'w')\n",
    "file.write(\"Age,\" + \"Gender (male=1),\" + \"Gift Size,\" + \"Billing State\"  + \"\\n\")\n",
    "for i in range(N):\n",
    "    file.write(str(age_data[i]) + \", \" +\n",
    "               str(gender_data[i]) + \", \" +\n",
    "               str(giftSize_data[i]) + \", \" +\n",
    "               billingState_data[i] + \"\\n\")\n",
    "file.close()"
   ]
  },
  {
   "cell_type": "code",
   "execution_count": 145,
   "metadata": {
    "collapsed": false
   },
   "outputs": [],
   "source": [
    "#df = pd.DataFrame([age_data, gender_data, billingState_data]).T\n",
    "#df.columns = ['Age', 'Gender (male=1)', 'Billing State']"
   ]
  },
  {
   "cell_type": "markdown",
   "metadata": {
    "collapsed": true
   },
   "source": [
    "# III. Summarize the Data"
   ]
  },
  {
   "cell_type": "code",
   "execution_count": 146,
   "metadata": {
    "collapsed": false
   },
   "outputs": [],
   "source": [
    "df = pd.read_csv(\"../data/\" + \"generated_raw_data.csv\")"
   ]
  },
  {
   "cell_type": "code",
   "execution_count": 147,
   "metadata": {
    "collapsed": false
   },
   "outputs": [
    {
     "data": {
      "text/html": [
       "<div>\n",
       "<table border=\"1\" class=\"dataframe\">\n",
       "  <thead>\n",
       "    <tr style=\"text-align: right;\">\n",
       "      <th></th>\n",
       "      <th>Age</th>\n",
       "      <th>Gender (male=1)</th>\n",
       "      <th>Gift Size</th>\n",
       "      <th>Billing State</th>\n",
       "    </tr>\n",
       "  </thead>\n",
       "  <tbody>\n",
       "    <tr>\n",
       "      <th>0</th>\n",
       "      <td>15.0</td>\n",
       "      <td>0</td>\n",
       "      <td>125.52</td>\n",
       "      <td>Pennsylvania</td>\n",
       "    </tr>\n",
       "    <tr>\n",
       "      <th>1</th>\n",
       "      <td>46.0</td>\n",
       "      <td>1</td>\n",
       "      <td>125.18</td>\n",
       "      <td>Texas</td>\n",
       "    </tr>\n",
       "    <tr>\n",
       "      <th>2</th>\n",
       "      <td>37.0</td>\n",
       "      <td>1</td>\n",
       "      <td>126.28</td>\n",
       "      <td>California</td>\n",
       "    </tr>\n",
       "    <tr>\n",
       "      <th>3</th>\n",
       "      <td>28.0</td>\n",
       "      <td>1</td>\n",
       "      <td>125.12</td>\n",
       "      <td>Texas</td>\n",
       "    </tr>\n",
       "    <tr>\n",
       "      <th>4</th>\n",
       "      <td>31.0</td>\n",
       "      <td>1</td>\n",
       "      <td>125.46</td>\n",
       "      <td>Massachusetts</td>\n",
       "    </tr>\n",
       "  </tbody>\n",
       "</table>\n",
       "</div>"
      ],
      "text/plain": [
       "    Age  Gender (male=1)  Gift Size   Billing State\n",
       "0  15.0                0     125.52    Pennsylvania\n",
       "1  46.0                1     125.18           Texas\n",
       "2  37.0                1     126.28      California\n",
       "3  28.0                1     125.12           Texas\n",
       "4  31.0                1     125.46   Massachusetts"
      ]
     },
     "execution_count": 147,
     "metadata": {},
     "output_type": "execute_result"
    }
   ],
   "source": [
    "df.head()"
   ]
  },
  {
   "cell_type": "markdown",
   "metadata": {},
   "source": [
    "## Average Gift Size by State"
   ]
  },
  {
   "cell_type": "code",
   "execution_count": 210,
   "metadata": {
    "collapsed": false
   },
   "outputs": [
    {
     "data": {
      "text/plain": [
       "Billing State\n",
       " Alabama           125.583122\n",
       " Alaska            125.523333\n",
       " Arizona           125.551817\n",
       " Arkansas          125.573554\n",
       " California        125.559631\n",
       " Colorado          125.538205\n",
       " Connecticut       125.556386\n",
       " Delaware          125.539872\n",
       " Florida           125.548962\n",
       " Georgia           125.548242\n",
       " Hawaii            125.471765\n",
       " Idaho             125.544264\n",
       " Illinois          125.590613\n",
       " Indiana           125.546538\n",
       " Iowa              125.550080\n",
       " Kansas            125.563176\n",
       " Kentucky          125.588688\n",
       " Louisiana         125.591865\n",
       " Maine             125.602931\n",
       " Maryland          125.532219\n",
       " Massachusetts     125.581102\n",
       " Michigan          125.583091\n",
       " Minnesota         125.588269\n",
       " Mississippi       125.581165\n",
       " Missouri          125.567721\n",
       " Montana           125.519660\n",
       " Nebraska          125.606082\n",
       " Nevada            125.587554\n",
       " New Hampshire     125.465736\n",
       " New Jersey        125.553670\n",
       " New Mexico        125.645531\n",
       " New York          125.578560\n",
       " North Carolina    125.572124\n",
       " North Dakota      125.661111\n",
       " Ohio              125.567276\n",
       " Oklahoma          125.530953\n",
       " Oregon            125.558141\n",
       " Pennsylvania      125.560458\n",
       " Rhode Island      125.520446\n",
       " South Carolina    125.587534\n",
       " South Dakota      125.541825\n",
       " Tennessee         125.534259\n",
       " Texas             125.578579\n",
       " Utah              125.593346\n",
       " Vermont           125.609726\n",
       " Virginia          125.526708\n",
       " Washington        125.579640\n",
       " West Virginia     125.593477\n",
       " Wisconsin         125.483927\n",
       " Wyoming           125.646667\n",
       "Name: Gift Size, dtype: float64"
      ]
     },
     "execution_count": 210,
     "metadata": {},
     "output_type": "execute_result"
    }
   ],
   "source": [
    "df.groupby(by='Billing State').mean()['Gift Size']"
   ]
  },
  {
   "cell_type": "markdown",
   "metadata": {},
   "source": [
    " ## Average Per Capita Gift Size "
   ]
  },
  {
   "cell_type": "code",
   "execution_count": 211,
   "metadata": {
    "collapsed": false
   },
   "outputs": [
    {
     "data": {
      "text/plain": [
       "125.56393399999946"
      ]
     },
     "execution_count": 211,
     "metadata": {},
     "output_type": "execute_result"
    }
   ],
   "source": [
    "df['Gift Size'].mean()"
   ]
  },
  {
   "cell_type": "markdown",
   "metadata": {},
   "source": [
    "## Average Gift Size by Gender"
   ]
  },
  {
   "cell_type": "code",
   "execution_count": 213,
   "metadata": {
    "collapsed": false
   },
   "outputs": [
    {
     "data": {
      "text/plain": [
       "Gender (male=1)\n",
       "0    125.563513\n",
       "1    125.564351\n",
       "Name: Gift Size, dtype: float64"
      ]
     },
     "execution_count": 213,
     "metadata": {},
     "output_type": "execute_result"
    }
   ],
   "source": [
    "df.groupby(by='Gender (male=1)').mean()['Gift Size']"
   ]
  },
  {
   "cell_type": "markdown",
   "metadata": {},
   "source": [
    "## Histogram of Gift Size"
   ]
  },
  {
   "cell_type": "code",
   "execution_count": 206,
   "metadata": {
    "collapsed": false
   },
   "outputs": [],
   "source": [
    "giftSize_avg = 125\n",
    "skew_parameter = 5\n",
    "giftSize_data = np.round(lognorm.rvs(.5 ,loc=126,  scale=1000, size=N),\n",
    "                         decimals=2)"
   ]
  },
  {
   "cell_type": "code",
   "execution_count": 207,
   "metadata": {
    "collapsed": false,
    "scrolled": true
   },
   "outputs": [
    {
     "data": {
      "image/png": "[encoded data removed]",
      "text/plain": [
       "<matplotlib.figure.Figure at 0x121ea1550>"
      ]
     },
     "metadata": {},
     "output_type": "display_data"
    }
   ],
   "source": [
    "plt.figure(figsize=(15,5))\n",
    "\n",
    "data = giftSize_data\n",
    "plt.hist(data, bins=50)\n",
    "plt.title(\"Billing States of Sample (N=50000)\")\n",
    "plt.xlabel(\"Gift Size\")\n",
    "plt.ylabel(\"Frequency\")\n",
    "\n",
    "plt.show()"
   ]
  },
  {
   "cell_type": "code",
   "execution_count": null,
   "metadata": {
    "collapsed": true
   },
   "outputs": [],
   "source": []
  },
  {
   "cell_type": "code",
   "execution_count": null,
   "metadata": {
    "collapsed": true
   },
   "outputs": [],
   "source": []
  },
  {
   "cell_type": "code",
   "execution_count": 173,
   "metadata": {
    "collapsed": false
   },
   "outputs": [
    {
     "data": {
      "image/png": "[encoded data removed]",
      "text/plain": [
       "<matplotlib.figure.Figure at 0x121c7e780>"
      ]
     },
     "metadata": {},
     "output_type": "display_data"
    }
   ],
   "source": [
    "plt.figure(figsize=(15,5))\n",
    "\n",
    "data = giftSize_data\n",
    "plt.hist(data, bins=50)\n",
    "plt.title(\"Billing States of Sample (N=50000)\")\n",
    "plt.xlabel(\"Gift Size\")\n",
    "plt.ylabel(\"Frequency\")\n",
    "\n",
    "plt.show()"
   ]
  },
  {
   "cell_type": "markdown",
   "metadata": {},
   "source": [
    "## Histogram of Age"
   ]
  },
  {
   "cell_type": "code",
   "execution_count": null,
   "metadata": {
    "collapsed": true
   },
   "outputs": [],
   "source": [
    "# fix decline of exponential"
   ]
  },
  {
   "cell_type": "code",
   "execution_count": 232,
   "metadata": {
    "collapsed": false
   },
   "outputs": [
    {
     "data": {
      "image/png": "[encoded data removed]",
      "text/plain": [
       "<matplotlib.figure.Figure at 0x11e1ac710>"
      ]
     },
     "metadata": {},
     "output_type": "display_data"
    }
   ],
   "source": [
    "plt.figure(figsize=(15,5))\n",
    "\n",
    "data = age_data\n",
    "plt.hist(data, range=(0,max_age), bins=max_age+1)\n",
    "plt.title(\"Ages of Sample (N=50000)\")\n",
    "plt.xlabel(\"Years\")\n",
    "plt.ylabel(\"Frequency\")\n",
    "\n",
    "plt.show()"
   ]
  },
  {
   "cell_type": "code",
   "execution_count": 194,
   "metadata": {
    "collapsed": false,
    "scrolled": true
   },
   "outputs": [
    {
     "data": {
      "image/png": "[encoded data removed]",
      "text/plain": [
       "<matplotlib.figure.Figure at 0x11569b8d0>"
      ]
     },
     "metadata": {},
     "output_type": "display_data"
    }
   ],
   "source": [
    "plt.figure(figsize=(15,5))\n",
    "\n",
    "data = age_data\n",
    "plt.hist(data, bins=max_age+1)\n",
    "plt.title(\"Ages of Sample (N=50000)\")\n",
    "plt.xlabel(\"Years\")\n",
    "plt.ylabel(\"Frequency\")\n",
    "\n",
    "plt.show()"
   ]
  },
  {
   "cell_type": "markdown",
   "metadata": {
    "collapsed": true
   },
   "source": [
    "# IV. Create Visualizations"
   ]
  },
  {
   "cell_type": "markdown",
   "metadata": {},
   "source": [
    "## Average Gift Size per State"
   ]
  },
  {
   "cell_type": "markdown",
   "metadata": {},
   "source": [
    "## Number of Donations per State"
   ]
  },
  {
   "cell_type": "markdown",
   "metadata": {},
   "source": [
    "# V. Build a Model"
   ]
  },
  {
   "cell_type": "code",
   "execution_count": null,
   "metadata": {
    "collapsed": true
   },
   "outputs": [],
   "source": []
  }
 ],
 "metadata": {
  "kernelspec": {
   "display_name": "Python 3",
   "language": "python",
   "name": "python3"
  },
  "language_info": {
   "codemirror_mode": {
    "name": "ipython",
    "version": 3
   },
   "file_extension": ".py",
   "mimetype": "text/x-python",
   "name": "python",
   "nbconvert_exporter": "python",
   "pygments_lexer": "ipython3",
   "version": "3.5.2"
  }
 },
 "nbformat": 4,
 "nbformat_minor": 2
}
