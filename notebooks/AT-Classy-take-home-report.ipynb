{
 "cells": [
  {
   "cell_type": "markdown",
   "metadata": {},
   "source": [
    "# Classy: Data Insights Take Home Exam\n",
    "## Author: Aaron Trefler\n",
    "## Fall 2017 Data Science Internship Candidate"
   ]
  },
  {
   "cell_type": "markdown",
   "metadata": {},
   "source": [
    "# Setup"
   ]
  },
  {
   "cell_type": "code",
   "execution_count": null,
   "metadata": {},
   "outputs": [],
   "source": [
    "import matplotlib\n",
    "import matplotlib.pyplot as plt\n",
    "import numpy as np\n",
    "import pandas as pd\n",
    "import plotly\n",
    "import plotly.offline as offline\n",
    "import plotly.plotly as py\n",
    "import seaborn as sns\n",
    "\n",
    "from scipy.stats import bernoulli, expon, lognorm, multinomial, randint\n",
    "from sklearn.linear_model import LinearRegression\n",
    "from sklearn.metrics import r2_score"
   ]
  },
  {
   "cell_type": "code",
   "execution_count": null,
   "metadata": {},
   "outputs": [],
   "source": [
    "# Script Variables\n",
    "N = 50000 # data sample size"
   ]
  },
  {
   "cell_type": "code",
   "execution_count": null,
   "metadata": {},
   "outputs": [],
   "source": [
    "# Plotting Setup\n",
    "plt.rcParams['axes.titlesize'] = 18\n",
    "plt.rcParams['axes.labelsize'] = 16\n",
    "plt.rcParams['xtick.labelsize'] = 14\n",
    "plt.rcParams['ytick.labelsize'] = 14\n",
    "offline.init_notebook_mode()"
   ]
  },
  {
   "cell_type": "markdown",
   "metadata": {},
   "source": [
    "# Access a Data Source"
   ]
  },
  {
   "cell_type": "markdown",
   "metadata": {},
   "source": [
    "US state population data taken from the official US Census website. Data estimation accurate as of 7/1/2016.  \n",
    "\n",
    "- Source: https://www2.census.gov/programs-surveys/popest/datasets/2010-2016/state/asrh/  \n",
    "- Filename: scprc-est2016-18+pop-res.csv  \n",
    "- Dataset Description: https://www2.census.gov/programs-surveys/popest/technical-documentation/file-layouts/2010-2016/SCPRC-EST2016-18+POP-RES.pdf\n",
    "- Data Estimation Methodology: https://www2.census.gov/programs-surveys/popest/technical-documentation/methodology/2010-2016/2016-natstcopr-meth.pdf "
   ]
  },
  {
   "cell_type": "code",
   "execution_count": null,
   "metadata": {},
   "outputs": [],
   "source": [
    "# load in data\n",
    "data_pop = 'scprc-est2016-18+pop-res.csv'\n",
    "df_pop = pd.read_csv('../data/' + data_pop)\n",
    "\n",
    "# extract relevant columns\n",
    "df_pop_state = df_pop[['NAME', 'POPESTIMATE2016']]\n",
    "\n",
    "# remove non-state entries\n",
    "df_pop_state = df_pop_state[df_pop_state.NAME != 'United States']\n",
    "df_pop_state = df_pop_state[df_pop_state.NAME != 'District of Columbia']\n",
    "df_pop_state = df_pop_state[df_pop_state.NAME != 'Puerto Rico Commonwealth']"
   ]
  },
  {
   "cell_type": "code",
   "execution_count": null,
   "metadata": {},
   "outputs": [],
   "source": [
    "print(\"Data Verification\")\n",
    "print(\"\\nFirst 5 Entries:\")\n",
    "print(df_pop_state.head())\n",
    "print(\"\\nLast 5 Entries:\")\n",
    "print(df_pop_state.tail())\n",
    "print(\"\\nNumber of States:\", df_pop_state.shape[0])\n",
    "print(\"\\nNaN or Missing Values\")\n",
    "print(np.sum(df_pop_state.isnull()))"
   ]
  },
  {
   "cell_type": "markdown",
   "metadata": {},
   "source": [
    "# Generate Raw Data"
   ]
  },
  {
   "cell_type": "markdown",
   "metadata": {},
   "source": [
    "## Age \n",
    "\n",
    "Modeling approximations, estimates, and assumptions:\n",
    "- Age is modeled as a uniform probability distribution from 0 to 54. Approximation based on US 2010 Census data (see Figure 1 below). \n",
    "- Age is modeled as an exponential probability distribution (lambda = 0.05) for ages greater than 54. Approximation based on US 2010 Census data (see Figure 1 below). \n",
    "- No ages greater than 113 were generated. If a value greater than 113 was generated, the value was discarded and re-sampled. Assumption based on an article published in the New York Post that stated that as of 02/09/17 the oldest person in America was 113.  \n",
    "- 72% of the population is estimated to be 54 or younger. Estimation taken from 2015 data provided by the Henry J. Kaiser Family Foundation.\n",
    "- Young ages (i.e., 0-18) were allowed to be generated, as donations could be made in the names of these children but the money supplied by their parents, god parents, other family members, etc.\n",
    "\n",
    "\n",
    "Sources:\n",
    "- 2010 US Census, \"Age and Sex Composition: 2010\": https://www.census.gov/prod/cen2010/briefs/c2010br-03.pdf\n",
    "- New York Post Article, \"The oldest person in America has died\": http://nypost.com/2017/02/09/the-oldest-person-in-america-has-died/ \n",
    "- The Henry J. Kaiser Family Foundation, \"Population Distribution by Age\": http://www.kff.org/other/state-indicator/distribution-by-age/?currentTimeframe=0&sortModel=%7B%22colId%22:%22Location%22,%22sort%22:%22asc%22%7D   \n",
    "\n",
    "Note: \n",
    "- Continuous values sampled from the exponential distribution were converted to be discrete."
   ]
  },
  {
   "cell_type": "markdown",
   "metadata": {},
   "source": [
    "### Figure 1\n",
    "![US Census Age Histogram](../resources/USCensus_AgeHistogram.png)"
   ]
  },
  {
   "cell_type": "code",
   "execution_count": null,
   "metadata": {},
   "outputs": [],
   "source": [
    "age_data = np.empty(N)\n",
    "max_age = 113\n",
    "\n",
    "# bernoulli parameter\n",
    "p = .72\n",
    "\n",
    "for i in range(N):\n",
    "    # generate bernoulli outcome (1=\"54 and under\", 0=\"over 54\")\n",
    "    x = bernoulli.rvs(p, size = 1)\n",
    "    \n",
    "    # generate appropriate age based on bernoulli outcome\n",
    "    if (x == 1):\n",
    "        # model \"54 and under\" as a discrete uniform distribution\n",
    "        min_value = 0\n",
    "        max_value = 54\n",
    "        age_data[i] = randint.rvs(low=min_value, high=max_value+1, size=1)\n",
    "    else:\n",
    "        # model \"over 54\" as an exponential distribution\n",
    "        decay_rate = .05;\n",
    "        min_value = 55\n",
    "        age_data[i] = np.floor(expon.rvs(loc=min_value, scale=1.0/decay_rate, size=1).astype(int))\n",
    "        # re-sample if age drawn is greater than max_age\n",
    "        while (age_data[i] > max_age):\n",
    "            age_data[i] = np.floor(expon.rvs(loc=min_value, scale=1.0/decay_rate, size=1).astype(int))"
   ]
  },
  {
   "cell_type": "markdown",
   "metadata": {},
   "source": [
    "## Gender\n",
    "Modeling approximations, estimates, and assumptions:\n",
    "- 50% of the population is estimated to be male, and the other 50% to be female. Approximation supported by 2010 US Census data, which stated that as of 2010 50.8% of the population was female and the rest were male.\n",
    "\n",
    "Sources:\n",
    "- 2010 US Census, \"Age and Sex Composition: 2010\": https://www.census.gov/prod/cen2010/briefs/c2010br-03.pdf"
   ]
  },
  {
   "cell_type": "code",
   "execution_count": null,
   "metadata": {},
   "outputs": [],
   "source": [
    "p = .5\n",
    "gender_data = bernoulli.rvs(p, size = N)"
   ]
  },
  {
   "cell_type": "markdown",
   "metadata": {},
   "source": [
    "## Gift Size\n",
    "\n",
    "Modeling approximations, estimates, and assumptions:\n",
    "- Assuming that \"Gift Size\" refers to single event online donations (i.e., non \"monthly\" or otherwise automatically recurring donations).\n",
    "- Average gift size is estimated to be $125. Estimate taken from a Classy.org blog post, \"Choosing the Right Giving Levels for Your Online Donation Form\".\n",
    "- Gift size is modeled as a log-normal probability distribution. A log-normal distribution was chosen for the following reasons: (1) it does not generate negative numbers, as all gifts are  non-negative in value; (2) the majority of generated numbers fall close to the mean, as would be expected of most gifts; and (3) it has a long right tail that allows for generated values to be far greater than the mean, as there exists some wealthy patrons who can afford to make very large donations.\n",
    "\n",
    "Sources:\n",
    "- Classy blog post, \"Choosing the Right Giving Levels for Your Online Donation Form\": https://www.classy.org/blog/choosing-the-right-giving-levels-for-your-online-donation-form/\n",
    "\n",
    "Note:\n",
    "- 1 cent was added to all generated Gift Size values in order to avoid generating Gift Sizes values of zero dollars."
   ]
  },
  {
   "cell_type": "code",
   "execution_count": null,
   "metadata": {},
   "outputs": [],
   "source": [
    "# Converts the mean and the standard deviation for a log-normal distribution over random variable X \n",
    "# to the mean and standard deviation for the normal distribution of EXP(X)\n",
    "#\n",
    "# Code based on: \n",
    "#   http://blogs.sas.com/content/iml/2014/06/04/simulate-lognormal-data-with-specified-mean-and-variance.html\n",
    "def convert_mu_lognormal_parameters(mu_lognormal, sigma_lognormal):\n",
    "    phi = np.sqrt(sigma_lognormal + mu_lognormal**2)\n",
    "    mu = np.log(mu_lognormal**2/phi)\n",
    "    sigma = np.sqrt(np.log(phi**2/mu_lognormal**2))\n",
    "    return mu, sigma"
   ]
  },
  {
   "cell_type": "code",
   "execution_count": null,
   "metadata": {},
   "outputs": [],
   "source": [
    "# choose gift size metrics\n",
    "giftSize_avg = 126\n",
    "giftSize_std = giftSize_avg**2.2\n",
    "\n",
    "# create log-normal distribution\n",
    "mu_lognormal = giftSize_avg\n",
    "sigma_lognormal = giftSize_std\n",
    "mu, sigma = convert_mu_lognormal_parameters(mu_lognormal, sigma_lognormal)\n",
    "\n",
    "# generate values\n",
    "# Y: random variable of lognormal distribution\n",
    "# np.exp(mu): mean of normal distribution over X, where X = log(Y)\n",
    "# sigma: standard deviation of normal distribution over X, where X = log(Y)\n",
    "giftSize_data = np.round(lognorm.rvs(s=sigma, scale=np.exp(mu), size=N) + 0.01, \n",
    "                         decimals=2)"
   ]
  },
  {
   "cell_type": "markdown",
   "metadata": {},
   "source": [
    "## Billing State \n",
    "Modeling approximations, estimates, and assumptions:\n",
    "- Billing state was modeled as a multinomial distribution, with the probability of drawing a particular state proportional to the state's population.\n"
   ]
  },
  {
   "cell_type": "code",
   "execution_count": null,
   "metadata": {},
   "outputs": [],
   "source": [
    "# calculate relative state populations\n",
    "total_pop = np.sum(df_pop_state['POPESTIMATE2016'])\n",
    "df_pop_state['POPESTIMATE2016_RELATIVE'] = df_pop_state['POPESTIMATE2016'] / total_pop"
   ]
  },
  {
   "cell_type": "code",
   "execution_count": null,
   "metadata": {},
   "outputs": [],
   "source": [
    "# generate values from multinomial distribution over states\n",
    "pvals = df_pop_state['POPESTIMATE2016_RELATIVE']\n",
    "billingState_data = []\n",
    "for i in range(N):\n",
    "    x = np.array([multinomial.rvs(1, pvals, size=1)])\n",
    "    x = x.squeeze().astype(bool)\n",
    "    billingState_data.append(df_pop_state['NAME'][x].iloc[0])"
   ]
  },
  {
   "cell_type": "markdown",
   "metadata": {
    "collapsed": true
   },
   "source": [
    "## Create CSV File"
   ]
  },
  {
   "cell_type": "code",
   "execution_count": null,
   "metadata": {},
   "outputs": [],
   "source": [
    "file = open('../data/generated_raw_data.csv', 'w')\n",
    "file.write(\"Age,\" + \"Gender (male=1),\" + \"Gift Size,\" + \"Billing State\"  + \"\\n\")\n",
    "for i in range(N):\n",
    "    file.write(str(age_data[i]) + \", \" +\n",
    "               str(gender_data[i]) + \", \" +\n",
    "               str(giftSize_data[i]) + \", \" +\n",
    "               billingState_data[i] + \"\\n\")\n",
    "file.close()"
   ]
  },
  {
   "cell_type": "markdown",
   "metadata": {
    "collapsed": true
   },
   "source": [
    "# Summarize the Data"
   ]
  },
  {
   "cell_type": "code",
   "execution_count": null,
   "metadata": {},
   "outputs": [],
   "source": [
    "df = pd.read_csv(\"../data/\" + \"generated_raw_data.csv\")"
   ]
  },
  {
   "cell_type": "markdown",
   "metadata": {},
   "source": [
    "## Average Gift Size by State"
   ]
  },
  {
   "cell_type": "code",
   "execution_count": null,
   "metadata": {},
   "outputs": [],
   "source": [
    "print(np.round(df.groupby(by='Billing State').mean()['Gift Size'], 2))"
   ]
  },
  {
   "cell_type": "markdown",
   "metadata": {},
   "source": [
    " ## Average Per Capita Gift Size "
   ]
  },
  {
   "cell_type": "code",
   "execution_count": null,
   "metadata": {},
   "outputs": [],
   "source": [
    "print(np.round(df['Gift Size'].mean(), 2))"
   ]
  },
  {
   "cell_type": "markdown",
   "metadata": {},
   "source": [
    "## Average Gift Size by Gender"
   ]
  },
  {
   "cell_type": "code",
   "execution_count": null,
   "metadata": {},
   "outputs": [],
   "source": [
    "print(np.round(df.groupby(by='Gender (male=1)').mean()['Gift Size'], 2))"
   ]
  },
  {
   "cell_type": "markdown",
   "metadata": {},
   "source": [
    "## Histogram of Gift Size"
   ]
  },
  {
   "cell_type": "code",
   "execution_count": null,
   "metadata": {},
   "outputs": [],
   "source": [
    "plt.figure(figsize=(15,5))\n",
    "\n",
    "data = df['Gift Size']\n",
    "plt.hist(data, bins=500)\n",
    "plt.title(\"Gift Sizes of Sample Data (N=\" + str(N) + \")\")\n",
    "plt.xlabel(\"Gift Size ($)\")\n",
    "plt.ylabel(\"Frequency\")\n",
    "\n",
    "plt.show()\n",
    "\n",
    "print(\"Mean:   \", np.round(df['Gift Size'].mean(), 2))\n",
    "print(\"Median: \", np.round(df['Gift Size'].median(), 2))\n",
    "print(\"Min:    \", np.round(df['Gift Size'].min(), 2))\n",
    "print(\"Max:    \", np.round(df['Gift Size'].max(), 2))"
   ]
  },
  {
   "cell_type": "markdown",
   "metadata": {},
   "source": [
    "Unimodal:\n",
    "- The majority of the density is centered on the far left side of the histogram. Most values are densely centered around the median of \\$66.38.\n",
    "\n",
    "Skewed Right:\n",
    "- Moving past the median along the extended right tail of the histogram we see an exponential decay in gift sizes, with the maximum gift size reaching \\$5,447.27.\n",
    "\n",
    "Reasons:\n",
    "- The histogram has this shape because most people tend to give gifts of a modest amount (\\$1 - \\$500), whereas there is an ever decreasing amount of people who are capable and willing of making gifts of larger and larger values.\n",
    "- Another fact that pushes the histogram towards having a positive skew is that it is impossible to make a negative gift, but possible to give gifts up to an arbitrarily large amount."
   ]
  },
  {
   "cell_type": "markdown",
   "metadata": {},
   "source": [
    "## Histogram of Age"
   ]
  },
  {
   "cell_type": "code",
   "execution_count": null,
   "metadata": {},
   "outputs": [],
   "source": [
    "plt.figure(figsize=(15,5))\n",
    "\n",
    "max_age = 114\n",
    "data = df['Age']\n",
    "plt.hist(data, range=(0,max_age), bins=max_age+1)\n",
    "plt.title(\"Ages of Sample Data (N=\" + str(N) + \")\")\n",
    "plt.xlabel(\"Age (years)\")\n",
    "plt.ylabel(\"Frequency\")\n",
    "\n",
    "plt.show()\n",
    "\n",
    "print(\"Mean:    \", np.round(df['Age'].mean(), 2))\n",
    "print(\"Meadian: \", np.round(df['Age'].median(), 2))\n",
    "print(\"Min:     \", np.round(df['Age'].min(), 2))\n",
    "print(\"Max:     \", np.round(df['Age'].max(), 2))"
   ]
  },
  {
   "cell_type": "markdown",
   "metadata": {},
   "source": [
    "Unform (0 to late 50's):\n",
    "- The histogram is effectively uniform from the values of 0 to late 50's. \n",
    "\n",
    "Skewed Right:\n",
    "- From the late 50's onward the histogram begins to decay exponentially stopping abruptly at a value of 113.\n",
    "\n",
    "Reasons:\n",
    "- The histogram is uniform from the values of 0 to late 50's because being born in any specific year is just as likely as any other. \n",
    "- The exponential decay in the histogram's right tail is caused by the onset of life threatening health conditions that become exponentially more likely every year once you pass your late 50's.\n",
    "\n",
    "Caveats:\n",
    "- The modeling procedures used did not take into account generational effects, which would make the likelihood of sampling people being born in certain years more likely than others.\n",
    "- The modeling assumptions used lead to a generative model that consistently over samples very senior ages (i.e., 90+). This potentially could be avoided by modeling very senior ages with a separate exponential distribution then was used for ages 55 to 89. "
   ]
  },
  {
   "cell_type": "markdown",
   "metadata": {
    "collapsed": true
   },
   "source": [
    "# Create Visualizations"
   ]
  },
  {
   "cell_type": "code",
   "execution_count": null,
   "metadata": {},
   "outputs": [],
   "source": [
    "# Plots a selected measurment as heat-map across the 50 states of America.\n",
    "#\n",
    "# Code based on: \n",
    "#   https://plot.ly/python/choropleth-maps/\n",
    "def visualize_state_meas_map(df, meas, title, unit=''):\n",
    "\n",
    "    for col in df.columns:\n",
    "        df[col] = df[col].astype(str)\n",
    "\n",
    "    df['text'] = df['Billing State'] + '<br>' + meas + \": \" + df[meas]\n",
    "\n",
    "    data = [ dict(\n",
    "            type='choropleth',\n",
    "            autocolorscale = True,\n",
    "            locations = df['State Code'],\n",
    "            z = df[meas].astype(float),\n",
    "            locationmode = 'USA-states',\n",
    "            text = df['text'],\n",
    "            marker = dict(\n",
    "                line = dict (\n",
    "                    color = 'rgb(255,255,255)',\n",
    "                    width = 2\n",
    "                )\n",
    "            ),\n",
    "            colorbar = dict(\n",
    "                title = unit\n",
    "            )\n",
    "        ) ]\n",
    "\n",
    "    layout = dict(\n",
    "            title = title,\n",
    "            geo = dict(\n",
    "                scope='usa',\n",
    "                projection=dict( type='albers usa' ),\n",
    "                showlakes = True,\n",
    "                lakecolor = 'rgb(255, 255, 255)',\n",
    "            ),\n",
    "        )\n",
    "\n",
    "    fig = dict(data=data, layout=layout)\n",
    "\n",
    "    plotly.offline.iplot(fig, filename='d3-cloropleth-map')"
   ]
  },
  {
   "cell_type": "markdown",
   "metadata": {},
   "source": [
    "## Average Gift Size by State"
   ]
  },
  {
   "cell_type": "code",
   "execution_count": null,
   "metadata": {},
   "outputs": [],
   "source": [
    "# create DataFrame of average gift size by state\n",
    "df_state_giftSize = \\\n",
    "    df.groupby(by='Billing State', as_index=False).mean()[['Billing State', 'Gift Size']]\n",
    "df_state_giftSize['Gift Size'] = np.round(df_state_giftSize['Gift Size'], 2)\n",
    "\n",
    "# add state codes to DataFrame (needed for plotly visualizations)\n",
    "df_stateCodes = pd.read_csv('../data/state_codes.csv', header=None)\n",
    "df_state_giftSize['State Code'] = df_stateCodes\n",
    "\n",
    "# visualize\n",
    "visualize_state_meas_map(df_state_giftSize.copy(), 'Gift Size', 'Average Gift Size by State', \n",
    "                         'USD')"
   ]
  },
  {
   "cell_type": "markdown",
   "metadata": {},
   "source": [
    "## Number of Donations per State"
   ]
  },
  {
   "cell_type": "code",
   "execution_count": null,
   "metadata": {},
   "outputs": [],
   "source": [
    "# create DataFrame of number of donations by state\n",
    "df_state_numDonations = \\\n",
    "    df.groupby(by='Billing State', as_index=False).count()[['Billing State', 'Age']]\n",
    "df_state_numDonations = \\\n",
    "    df_state_numDonations.rename(columns = {'Age': 'Number of Donations'})\n",
    "\n",
    "# add state codes to DataFrame (needed for plotly visualizations)\n",
    "df_stateCodes = pd.read_csv('../data/state_codes.csv', header=None)\n",
    "df_state_numDonations['State Code'] = df_stateCodes\n",
    "\n",
    "# visualize\n",
    "visualize_state_meas_map(df_state_numDonations.copy(), 'Number of Donations', \n",
    "                         'Number of Donations by State', 'Donations')"
   ]
  },
  {
   "cell_type": "markdown",
   "metadata": {},
   "source": [
    "# Build a Model"
   ]
  },
  {
   "cell_type": "code",
   "execution_count": null,
   "metadata": {},
   "outputs": [],
   "source": [
    "df_lm = pd.DataFrame(data={\n",
    "    'Population': df_pop_state['POPESTIMATE2016'].values,\n",
    "    'Number of Donations': df_state_numDonations['Number of Donations'].values})"
   ]
  },
  {
   "cell_type": "code",
   "execution_count": null,
   "metadata": {},
   "outputs": [],
   "source": [
    "# train linear model\n",
    "lm = LinearRegression()\n",
    "lm.fit(df_lm['Population'].values.reshape(-1, 1), \n",
    "       df_lm['Number of Donations'].values.reshape(-1, 1))\n",
    "b = lm.intercept_[0]\n",
    "m = lm.coef_[0][0]\n",
    "\n",
    "# calculate variance explained\n",
    "y_true = df_lm['Number of Donations'].values.reshape(-1, 1)\n",
    "y_pred = b + (m * df_lm['Population'].values)\n",
    "r2 = r2_score(y_true, y_pred)"
   ]
  },
  {
   "cell_type": "code",
   "execution_count": null,
   "metadata": {
    "scrolled": false
   },
   "outputs": [],
   "source": [
    "plt.figure(figsize=(15,5))\n",
    "sns.regplot(x=\"Population\", y=\"Number of Donations\", data=df_lm, \n",
    "            line_kws={'color':\"g\", \"alpha\":0.5, \"lw\":4})\n",
    "plt.title(\"Number of Donations by State Population\")\n",
    "plt.xlabel(\"State Population\")\n",
    "plt.show()\n",
    "\n",
    "print(\"Percentage of Variance Explained (R-squared * 100) = \", round(r2 * 100, 2))"
   ]
  },
  {
   "cell_type": "markdown",
   "metadata": {
    "collapsed": true
   },
   "source": [
    "# General Caveats\n",
    "\n",
    "- All generated variables in the analysis (i.e., age, gender, gift size, and billing state) were assumed to be independent from each other, which is clearly not the case. For example, knowing someone's age, gender, and billing state definitely gives you information useful in predicting/generating their gift size amount. "
   ]
  }
 ],
 "metadata": {
  "kernelspec": {
   "display_name": "Python 3",
   "language": "python",
   "name": "python3"
  },
  "language_info": {
   "codemirror_mode": {
    "name": "ipython",
    "version": 3
   },
   "file_extension": ".py",
   "mimetype": "text/x-python",
   "name": "python",
   "nbconvert_exporter": "python",
   "pygments_lexer": "ipython3",
   "version": "3.5.4"
  },
  "toc": {
   "colors": {
    "hover_highlight": "#DAA520",
    "navigate_num": "#000000",
    "navigate_text": "#333333",
    "running_highlight": "#FF0000",
    "selected_highlight": "#FFD700",
    "sidebar_border": "#EEEEEE",
    "wrapper_background": "#FFFFFF"
   },
   "moveMenuLeft": true,
   "nav_menu": {
    "height": "343px",
    "width": "251px"
   },
   "navigate_menu": true,
   "number_sections": true,
   "sideBar": true,
   "threshold": 4,
   "toc_cell": false,
   "toc_section_display": "block",
   "toc_window_display": false,
   "widenNotebook": false
  }
 },
 "nbformat": 4,
 "nbformat_minor": 2
}
